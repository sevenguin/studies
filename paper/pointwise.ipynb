{
 "cells": [
  {
   "cell_type": "markdown",
   "metadata": {},
   "source": [
    "[paper](https://dl.acm.org/citation.cfm?id=1009006)\n",
    "\n",
    "继承BIR（ binary independence retrieval (BIR) model），因为：\n",
    "1. 是IR的很准确的一个描述（用户关心的就是查询的东西和文档的相关性）；\n",
    "2. 转化成分类问题就可以让我们借助比较成熟的机器学习技术来处理\n",
    "\n",
    "IR：Information Retrieval"
   ]
  },
  {
   "cell_type": "markdown",
   "metadata": {},
   "source": [
    "### 判别/生成分类模型\n",
    "判别模型：直接获得后验概率$P(C|X)$   \n",
    "生成模型：需要获得类的条件概率$P(X|C)$和先验概率$P(C)$，然后通过贝叶斯规则计算后验概率：\n",
    "$$ P(C|X)\\propto P(X|C)P(C)$$\n",
    "生成模型其实可以理解成获得了数据的分布，通过贝叶斯公式可以计算出$P(X,C)$   \n",
    "#### 概率IR模型的分类\n",
    "问题：   \n",
    "说是分类问题，分类属于监督学习，例如BIR中，$R$和$\\bar R$的数据事先需要知道，否则如何来计算概率？\n",
    "##### BIR模型\n",
    "假设有一个词库（或者需要排序的元数据库），共有n个词（元子），相关类别标注为$R$，无关类标注为$\\bar R$，定义一个D（假如是一个文档），则$D=(x_1, x_2, ···, x_n)$，$x_i$标注第i个term是否在D中。   \n",
    "则排序根据对数似然率来进行（对数似然率来表示相关性），计算公式如下：\n",
    "$$ \\log{\\frac{P(R|D)}{P(\\bar R|D)}} = \\log(\\frac{P(D|R)P(R)}{P(D|\\bar R)P(\\bar R)})\\\\\n",
    "=\\log(\\prod_{i:x_i=1}\\frac{P(x_i=1|R)}{P(x_i=1|\\bar R)}\\prod_{i:x_i=0}\\frac{P(x_i=0|R)P(R)}{P(x_i=0|\\bar R)P(\\bar R)}\n",
    "$$"
   ]
  },
  {
   "cell_type": "markdown",
   "metadata": {},
   "source": [
    "##### Two-Poisson模型\n",
    "类似BIR模型，只不过概率计算使用的是两个泊松分布，使用两个混合的泊松分布来对$P(D|R),P(D|\\bar R)$进行建模，假设其中一个泊松分布为$E$，表示内容带有词而$\\bar E$表示内容不带词。   \n",
    "$$P(D|R) = \\prod_{i=1}^n(P(c(w_i)=k|E)P(E|R)+P(c(w_i)=k|\\bar E)P(\\bar E|R))\\\\\n",
    "=\\prod_{i=1}^n(p\\frac{e^{-m}m^k}{k!} + (1-p)\\frac{e^{-l}l^k}{l!})\n",
    "$$\n",
    "关于$P(E|R),P(\\bar E|R)$，可以考虑成高词频和低词频和相关性的概率。不同的泊松分布对应不同的$\\lambda$上式中的m/l分别是两个泊松分布的基础概率值。$p=P(E|R)$是混合权重。同理可以计算出$P(D|\\bar R)$\n",
    ">>> __Poisson__[link](https://zh.wikipedia.org/wiki/%E6%B3%8A%E6%9D%BE%E5%88%86%E4%BD%88)\n",
    "离散概率分布\n",
    "泊松分布适合描述单位时间内随机事件发生次数的的概率分布，记做：$X\\sim P(\\lambda)$ or $X\\sim \\pi(\\lambda)$，其中$\\lambda$表示单位时间内随机事件平均发生率。\n",
    "概率质量函数表述为：\n",
    "$P(X=K) = \\frac{e^{-\\lambda}\\lambda^k}{\\lambda!}$"
   ]
  },
  {
   "cell_type": "code",
   "execution_count": null,
   "metadata": {
    "collapsed": true
   },
   "outputs": [],
   "source": []
  },
  {
   "cell_type": "code",
   "execution_count": null,
   "metadata": {
    "collapsed": true
   },
   "outputs": [],
   "source": []
  }
 ],
 "metadata": {
  "kernelspec": {
   "display_name": "Python 3",
   "language": "python",
   "name": "python3"
  },
  "language_info": {
   "codemirror_mode": {
    "name": "ipython",
    "version": 3
   },
   "file_extension": ".py",
   "mimetype": "text/x-python",
   "name": "python",
   "nbconvert_exporter": "python",
   "pygments_lexer": "ipython3",
   "version": "3.5.3"
  }
 },
 "nbformat": 4,
 "nbformat_minor": 0
}
